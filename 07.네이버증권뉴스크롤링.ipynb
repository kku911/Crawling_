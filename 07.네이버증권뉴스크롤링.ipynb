{
 "cells": [
  {
   "cell_type": "code",
   "execution_count": null,
   "metadata": {},
   "outputs": [],
   "source": [
    "# 1단계\n",
    "# 첫번째 뉴스 - 제목, 링크, 내용, 언론사, 날짜\n",
    "\n",
    "import requests\n",
    "from bs4 import BeautifulSoup\n",
    "import re\n",
    "\n",
    "url = \"https://finance.naver.com/news/mainnews.naver?date=2024-05-08\"\n",
    "response = requests.get(url)\n",
    "html = response.text\n",
    "# print(html)\n",
    "soup = BeautifulSoup(html, 'html.parser')"
   ]
  },
  {
   "cell_type": "code",
   "execution_count": null,
   "metadata": {},
   "outputs": [],
   "source": [
    "# 첫번째 뉴스 - 제목, 링크, 내용, 언론사, 날짜\n",
    "soup.select_one('.articleSubject a').text.strip()\n"
   ]
  },
  {
   "cell_type": "code",
   "execution_count": null,
   "metadata": {},
   "outputs": [],
   "source": [
    "soup.select_one('.articleSummary').contents[0].strip()"
   ]
  },
  {
   "cell_type": "code",
   "execution_count": null,
   "metadata": {},
   "outputs": [],
   "source": [
    "soup.select_one('.press').text.strip()"
   ]
  },
  {
   "cell_type": "code",
   "execution_count": null,
   "metadata": {},
   "outputs": [],
   "source": [
    "soup.select_one('.wdate').text.strip()"
   ]
  },
  {
   "cell_type": "code",
   "execution_count": null,
   "metadata": {},
   "outputs": [],
   "source": [
    "\n",
    "tags = soup.select('.block1')\n",
    "for tag in tags:\n",
    "    subject = tag.select_one('.articleSubject a').text.strip()\n",
    "    summary = tag.select_one('.articleSummary').contents[0].strip()\n",
    "    presss = tag.select_one('.press').text.strip()\n",
    "    wdate = tag.select_one('.wdate').text.strip()\n",
    "\n",
    "    print(subject, '\\n' + summary, '\\n' + presss, '\\n' + wdate)\n"
   ]
  }
 ],
 "metadata": {
  "kernelspec": {
   "display_name": "Python 3",
   "language": "python",
   "name": "python3"
  },
  "language_info": {
   "codemirror_mode": {
    "name": "ipython",
    "version": 3
   },
   "file_extension": ".py",
   "mimetype": "text/x-python",
   "name": "python",
   "nbconvert_exporter": "python",
   "pygments_lexer": "ipython3",
   "version": "3.10.0"
  }
 },
 "nbformat": 4,
 "nbformat_minor": 2
}
