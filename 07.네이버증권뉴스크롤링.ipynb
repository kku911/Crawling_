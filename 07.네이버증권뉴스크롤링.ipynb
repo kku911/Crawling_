{
 "cells": [
  {
   "cell_type": "code",
   "execution_count": 32,
   "metadata": {},
   "outputs": [],
   "source": [
    "# 1단계\n",
    "# 첫번째 뉴스 - 제목, 링크, 내용, 언론사, 날짜\n",
    "\n",
    "import requests\n",
    "from bs4 import BeautifulSoup\n",
    "import re\n",
    "\n",
    "url = \"https://finance.naver.com/news/mainnews.naver?date=2024-05-08\"\n",
    "response = requests.get(url)\n",
    "html = response.text\n",
    "# print(html)\n",
    "soup = BeautifulSoup(html, 'html.parser')"
   ]
  },
  {
   "cell_type": "code",
   "execution_count": null,
   "metadata": {},
   "outputs": [
    {
     "data": {
      "text/plain": [
       "'“서학개미 어쩌나”…월가 전설, 엔비디아 팔고 ‘이 주식’ 샀다'"
      ]
     },
     "execution_count": 52,
     "metadata": {},
     "output_type": "execute_result"
    }
   ],
   "source": [
    "# 첫번째 뉴스 - 제목, 링크, 내용, 언론사, 날짜\n",
    "soup.select_one('.articleSubject a').text.strip()\n"
   ]
  },
  {
   "cell_type": "code",
   "execution_count": null,
   "metadata": {},
   "outputs": [
    {
     "data": {
      "text/plain": [
       "'‘억만장자 큰손’ 드러켄 밀러 엔비디아 일부 고점 매도 후 아르헨티나 대형주 5종목 매수 아르헨 ETF는 올해 26% 상승 월가 억만장..'"
      ]
     },
     "execution_count": 51,
     "metadata": {},
     "output_type": "execute_result"
    }
   ],
   "source": [
    "soup.select_one('.articleSummary').contents[0].strip()"
   ]
  },
  {
   "cell_type": "code",
   "execution_count": 53,
   "metadata": {},
   "outputs": [
    {
     "data": {
      "text/plain": [
       "'매일경제'"
      ]
     },
     "execution_count": 53,
     "metadata": {},
     "output_type": "execute_result"
    }
   ],
   "source": [
    "soup.select_one('.press').text.strip()"
   ]
  },
  {
   "cell_type": "code",
   "execution_count": 54,
   "metadata": {},
   "outputs": [
    {
     "data": {
      "text/plain": [
       "'2024-05-08 23:48:01'"
      ]
     },
     "execution_count": 54,
     "metadata": {},
     "output_type": "execute_result"
    }
   ],
   "source": [
    "soup.select_one('.wdate').text.strip()"
   ]
  },
  {
   "cell_type": "code",
   "execution_count": 62,
   "metadata": {},
   "outputs": [
    {
     "name": "stdout",
     "output_type": "stream",
     "text": [
      "“서학개미 어쩌나”…월가 전설, 엔비디아 팔고 ‘이 주식’ 샀다 \n",
      "‘억만장자 큰손’ 드러켄 밀러 엔비디아 일부 고점 매도 후 아르헨티나 대형주 5종목 매수 아르헨 ETF는 올해 26% 상승 월가 억만장.. \n",
      "매일경제 \n",
      "2024-05-08 23:48:01\n",
      "뉴욕증시, 기술주 부진·Fed 매파 발언에 하락…테슬라 2.6% ↓ \n",
      "미국 뉴욕증시의 3대 지수는 8일(현지시간) 장 초반 하락세를 보이고 있다. 기술주 부진과 전날 미 연방준비제도(Fed) 당국자의 매파.. \n",
      "아시아경제 \n",
      "2024-05-08 22:55:22\n",
      "일본은행 총재 \"물가전망 오르면 금리 빨리 조정하는 게 적절\" \n",
      "우에다 가즈오 일본은행(BOJ) 총재가 8일 물가가 오르거나 오를 위험성이 커질 것으로 전망되면 \"금리를 좀 더 빠르게 조정하는 게 적.. \n",
      "아시아경제 \n",
      "2024-05-08 21:10:48\n",
      "“4개월만에 180도 달라졌네”…희비 엇갈리는 중국·일본 펀드, 무슨 일 \n",
      "최근 한달 中펀드 6% 오르자 투자자들 차익실현 이어져 올해 “팔자” 이어졌던 日펀드 주춤한 틈타 저가매수 열풍 최근 일본 증시 하락으.. \n",
      "매일경제 \n",
      "2024-05-08 20:45:01\n",
      "빚내서 설비투자 ‘SK온’…사모 신종자본증권 조달 앞둬[마켓인] \n",
      "이 기사는 2024년05월08일 18시25분에 마켓인 프리미엄 콘텐츠로 선공개 되었습니다. 이차전지 업체 SK온이 사모시장 신종자본증권.. \n",
      "이데일리 \n",
      "2024-05-08 20:26:01\n",
      "수원 북부순환도로 관련 대출 1100억, 2040년 6월 만기 \n",
      "‘수원 북부순환도로 민간투자사업’ 관련 대출 1100억원이 오는 2040년 6월 만기를 맞는다. 당초에는 신용협동조합중앙회, 농협생명보.. \n",
      "이데일리 \n",
      "2024-05-08 20:16:01\n",
      "올해도 '헉소리' 나는 카네이션값…소비자도 꽃집도 울상 \n",
      "오늘(8일) 어버이날을 맞아 가슴에 카네이션 꽃 한송이를 단 부모들이 많습니다. 그런데 알고 보면, 이 꽃 값도 예년보다 참 많이 올랐.. \n",
      "MBN \n",
      "2024-05-08 20:14:01\n",
      "일 정부 압박에 라인야후 \"네이버 지분 매각 요청\" \n",
      "일본 국민 메신저 '라인'은 우리나라 네이버와 일본 소프트뱅크가 공동 경영하고 있죠. 일본 라인야후 사장이 오늘(8일) 네이버에 지분 .. \n",
      "MBN \n",
      "2024-05-08 20:10:01\n",
      "병원비·약값 줄줄이 인상…소화제·감기약은 물가의 최대 4배 \n",
      "또 가격 인상 소식이 있습니다. 먹거리만큼이나 자주 인상된 게 약값인데, 소화제나 감기약 같은 일부 상비약의 상승 폭은 전체 소비자물가.. \n",
      "MBN \n",
      "2024-05-08 20:08:01\n",
      "\"임대업자도 못 갚아\"…자영업자 대출 연체 1조 돌파 \n",
      "고금리에 빚을 갚지 못하는 자영업자들이 많다는 건 어제오늘 일이 아니지만, 최근에는 상황이 너무 안 좋습니다. 연체 금액이 지난해보다 .. \n",
      "MBN \n",
      "2024-05-08 20:06:57\n",
      "쿠팡, 알리·테무 공세에 영업이익 반토막…\"투자 더 늘린다\" \n",
      "국내 유통업계 1위 쿠팡이 7분기 만에 적자로 돌아섰습니다. 알리익스프레스와 테무 등 중국발 이커머스 공세에 영업이익이 61%나 줄었는.. \n",
      "MBN \n",
      "2024-05-08 20:00:01\n",
      "한화오션의 고발에 맞고소한 HD현대중공업…이지스함 수주 신경전 \n",
      "우리 해군력을 크게 신장시킬 한국형 차세대 이지스함을 누가 만드느냐가 올해 하반기 결정되는데요. 국내 대형 조선사인 HD현대중공업과 한.. \n",
      "MBN \n",
      "2024-05-08 19:56:01\n",
      "“‘나를 따르라’ 한마디에 우르르 몰려간 개미”…시세조종 놀이터 된 ‘해외주식 종토방’ \n",
      "증권사가 개설한 종토방서 검증 안된 종목 추천 속출 나스닥 전체 3411개 종목중 1달러 미만 동전주가 464개 시세조종 펌프질행위 빈.. \n",
      "매일경제 \n",
      "2024-05-08 19:43:01\n",
      "부양책 훈풍 탄 중국 증시, 경기 회복·美 금리 등 변수 \n",
      "올해 2월초 중국 본토와 홍콩 증시가 곤두박질치자 중국 정부는 긴급 대응에 나섰다. 국부펀드를 통해 대규모 주식을 매입하고 지난달에는 .. \n",
      "이데일리 \n",
      "2024-05-08 19:00:03\n",
      "中 상장사 1분기 실적 부진했는데…알리바바·텐센트 발표 주목 \n",
      "중국 증시가 정부 주도 부양책에 힘입어 큰 폭으로 올랐지만 랠리를 이어가기 위해선 기초체력인 실적 개선이 관건이다. 중국 상장사 이익은.. \n",
      "이데일리 \n",
      "2024-05-08 19:00:01\n",
      "증시 맴도는 CMA 잔액, 83조원 넘어서며 올들어 최고 \n",
      "매일 이자를 지급하고 입출금이 자유로운 종합자산관리계좌(CMA)와 머니마켓펀드(MMF)에 돈이 몰리고 있다. 미국 기준금리 인하 시기가.. \n",
      "한국경제 \n",
      "2024-05-08 18:41:03\n",
      "HD현대마린, 개인?외인 매도에도 ‘따블’ 근접 …장중 주가는 롤러코스터 \n",
      "올해 상반기 공모주 ‘최대어’ HD현대마린솔루션(HD현대마린)이 공모가 ‘따블(공모가 대비 배 상승)’에 근접하며 무난한 출발을 했다... \n",
      "국민일보 \n",
      "2024-05-08 18:39:01\n",
      "\"中·日·유럽 투자 매력 떨어져…젊은 '미·인'에 적극 대시하라\" \n",
      "일본과 중국, 유럽은 해외 증시에 투자하는 이른바 ‘서학개미’들이 미국에 이어 가장 많이 투자하는 시장으로 꼽힌다. 그런데 최근 이 시.. \n",
      "한국경제 \n",
      "2024-05-08 18:36:01\n",
      "HD현대마린, 첫날 '따블'…시총 7조원 안착 \n",
      "올해 상반기 기업공개(IPO) 최대어인 HD현대마린솔루션이 유가증권시장 상장 첫날 ‘따블’(공모가 대비 2배 상승)에 가까운 상승률을 .. \n",
      "한국경제 \n",
      "2024-05-08 18:34:01\n",
      "횡보장에만 유리?…편견 깬 커버드콜 \n",
      "“지속적인 배당수익을 원한다면 커버드콜 상장지수펀드(ETF)가 좋은 대안이 될 수 있습니다.” 남용수 한국투자신탁운용 ETF운용본부장(.. \n",
      "한국경제 \n",
      "2024-05-08 18:32:06\n"
     ]
    }
   ],
   "source": [
    "\n",
    "tags = soup.select('.block1')\n",
    "for tag in tags:\n",
    "    subject = tag.select_one('.articleSubject a').text.strip()\n",
    "    summary = tag.select_one('.articleSummary').contents[0].strip()\n",
    "    presss = tag.select_one('.press').text.strip()\n",
    "    wdate = tag.select_one('.wdate').text.strip()\n",
    "\n",
    "    print(subject, '\\n' + summary, '\\n' + presss, '\\n' + wdate)\n"
   ]
  }
 ],
 "metadata": {
  "kernelspec": {
   "display_name": "Python 3",
   "language": "python",
   "name": "python3"
  },
  "language_info": {
   "codemirror_mode": {
    "name": "ipython",
    "version": 3
   },
   "file_extension": ".py",
   "mimetype": "text/x-python",
   "name": "python",
   "nbconvert_exporter": "python",
   "pygments_lexer": "ipython3",
   "version": "3.10.0"
  }
 },
 "nbformat": 4,
 "nbformat_minor": 2
}
