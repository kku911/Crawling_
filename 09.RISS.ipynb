{
 "cells": [
  {
   "cell_type": "code",
   "execution_count": 21,
   "metadata": {},
   "outputs": [],
   "source": [
    "import requests\n",
    "from bs4 import BeautifulSoup\n",
    "import re\n",
    "\n",
    "param = {\n",
    "    'isDetailSearch': 'N',\n",
    "    'searchGubun': 'true',\n",
    "    'viewYn': 'OP',\n",
    "    'strQuery': '패션 인공지능',\n",
    "    'order': '/DESC',\n",
    "    'onHanja': 'false',\n",
    "    'strSort': 'RANK',\n",
    "    'iStartCount': 0,\n",
    "    'sflag': 1,\n",
    "    'isFDetailSearch': 'N',\n",
    "    'pageNumber': 1,\n",
    "    'resultKeyword': '패션 인공지능',\n",
    "    'icate': 're_a_kor',\n",
    "    'colName': 're_a_kor',\n",
    "    'pageScale': 100,\n",
    "    'isTab': 'Y',\n",
    "    'query': '패션 인공지능'\n",
    "}\n",
    "\n",
    "url = \"https://www.riss.kr/search/Search.do\"\n",
    "response = requests.get(url, params=param)\n",
    "html = response.text\n",
    "# print(html)\n",
    "soup = BeautifulSoup(html, 'html.parser')\n",
    "\n",
    "articles = soup.select(\".srchResultListW > ul > li\")\n",
    "\n"
   ]
  },
  {
   "cell_type": "code",
   "execution_count": 22,
   "metadata": {},
   "outputs": [
    {
     "name": "stdout",
     "output_type": "stream",
     "text": [
      "패션 제조 기업의 디지털 트랜스포메이션을 위한 인공지능 솔루션 개발 및 활용 현황 https://www.riss.kr/search/detail/DetailView.do?p_mat_type=1a0202e37d52c72d&control_no=dcd1a8e873c0ca787ecd42904f0c5d65&keyword=패션 인공지능 한국패션비즈니스학회\n",
      "텍스트마이닝을 활용한 인공지능과 패션의 융합에 대한 인식변화 분석 https://www.riss.kr/search/detail/DetailView.do?p_mat_type=1a0202e37d52c72d&control_no=657a0ea4ce31f352b36097776a77e665&keyword=패션 인공지능 한국전시산업융합연구원\n",
      "패션산업에 반영된 인공지능 사례연구 -패션 소비자 중심으로- https://www.riss.kr/search/detail/DetailView.do?p_mat_type=1a0202e37d52c72d&control_no=9c3313ce986b119147de9c1710b0298d&keyword=패션 인공지능 한국디자인문화학회\n",
      "인공지능(AI) 패션 스타일링 서비스 ‘스티치 픽스’의 융합 콘텐츠 연구 https://www.riss.kr/search/detail/DetailView.do?p_mat_type=1a0202e37d52c72d&control_no=404996b30e5d827bb7998d826d417196&keyword=패션 인공지능 한국전시산업융합연구원\n",
      "생성형 인공지능이 적용된 패션 이미지의 활용방안 제안-학습용 인공지능 데이터와 인공지능 기술적용 중심으로- https://www.riss.kr/search/detail/DetailView.do?p_mat_type=1a0202e37d52c72d&control_no=b22cdd16f60538efd18150b21a227875&keyword=패션 인공지능 한국디자인문화학회\n",
      "인공지능 기반의 패션 제품 사례 연구 https://www.riss.kr/search/detail/DetailView.do?p_mat_type=1a0202e37d52c72d&control_no=1eadfd1deba772aac85d2949c297615a&keyword=패션 인공지능 한국기초조형학회(Korean Society of Basic Design & Art)\n",
      "패션산업에서 인공지능 기반의 디자인 프로세스 혁신에 관한 연구 https://www.riss.kr/search/detail/DetailView.do?p_mat_type=1a0202e37d52c72d&control_no=78a4c578a5bbf1a94884a65323211ff0&keyword=패션 인공지능 커뮤니케이션디자인학회\n",
      "패션과 인공지능을 융합한 2D 이미지 기반 가상 착의의 복합적 특성 개선 연구 https://www.riss.kr/search/detail/DetailView.do?p_mat_type=1a0202e37d52c72d&control_no=e7b83280940ee1757ecd42904f0c5d65&keyword=패션 인공지능 한국전시산업융합연구원\n",
      "인공지능 학습용 패션 데이터셋 최근 동향 조사 https://www.riss.kr/search/detail/DetailView.do?p_mat_type=1a0202e37d52c72d&control_no=c4e4105ef5ab879fb7998d826d417196&keyword=패션 인공지능 한국방송·미디어공학회\n",
      "인공지능이 패션산업에 미치는 영향 : 기계학습을 중심으로 https://www.riss.kr/search/detail/DetailView.do?p_mat_type=1a0202e37d52c72d&control_no=13d063967a0be5024884a65323211ff0&keyword=패션 인공지능 한국생활과학회(KOREAN LIVING SCIENCE ASSOCIATION)\n",
      "패션산업에서 인공지능(AI) 활용 유형 분석 https://www.riss.kr/search/detail/DetailView.do?p_mat_type=1a0202e37d52c72d&control_no=4bea54d5218ca6d547de9c1710b0298d&keyword=패션 인공지능 한국감성과학회\n",
      "패션산업에서 인공지능의 활용 동향:  가치사슬 단계에 따른 접근 https://www.riss.kr/search/detail/DetailView.do?p_mat_type=1a0202e37d52c72d&control_no=8559c482384facf47f7a54760bb41745&keyword=패션 인공지능 한국지역사회생활과학회\n",
      "데이터기반의 인공지능 기술과 패션노믹스 https://www.riss.kr/search/detail/DetailView.do?p_mat_type=1a0202e37d52c72d&control_no=ab979c402289f86ee9810257f7042666&keyword=패션 인공지능 한국감성과학회(Korean Society for Emotion&Sensibility)\n",
      "ClothesMe: 시각 장애인을 위한 인공지능 기반 패션 도우미 https://www.riss.kr/search/detail/DetailView.do?p_mat_type=1a0202e37d52c72d&control_no=17b48ea25ff9be987ecd42904f0c5d65&keyword=패션 인공지능 한국정보처리학회\n",
      "현대 패션에 나타난 이미지 생성형 인공지능의 융합 사례와 의미 https://www.riss.kr/search/detail/DetailView.do?p_mat_type=1a0202e37d52c72d&control_no=469b8a986497aa8f7f7a54760bb41745&keyword=패션 인공지능 한국전시산업융합연구원\n",
      "인공지능을 활용한 온라인 패션 쇼핑몰의 고객 맞춤형 서비스 사례 연구 https://www.riss.kr/search/detail/DetailView.do?p_mat_type=1a0202e37d52c72d&control_no=0ef587d353be0bb0e9810257f7042666&keyword=패션 인공지능 한국디자인문화학회\n",
      "인공지능 학습을 위한 패션 레이블드데이터 분석 https://www.riss.kr/search/detail/DetailView.do?p_mat_type=1a0202e37d52c72d&control_no=9eead8f006fd0150c85d2949c297615a&keyword=패션 인공지능 한국디자인문화학회\n"
     ]
    },
    {
     "ename": "KeyboardInterrupt",
     "evalue": "",
     "output_type": "error",
     "traceback": [
      "\u001b[1;31m---------------------------------------------------------------------------\u001b[0m",
      "\u001b[1;31mKeyboardInterrupt\u001b[0m                         Traceback (most recent call last)",
      "Cell \u001b[1;32mIn[22], line 14\u001b[0m\n\u001b[0;32m     12\u001b[0m response \u001b[38;5;241m=\u001b[39m requests\u001b[38;5;241m.\u001b[39mget(link, headers\u001b[38;5;241m=\u001b[39mheader)\n\u001b[0;32m     13\u001b[0m html \u001b[38;5;241m=\u001b[39m response\u001b[38;5;241m.\u001b[39mtext\n\u001b[1;32m---> 14\u001b[0m soup \u001b[38;5;241m=\u001b[39m \u001b[43mBeautifulSoup\u001b[49m\u001b[43m(\u001b[49m\u001b[43mhtml\u001b[49m\u001b[43m,\u001b[49m\u001b[43m \u001b[49m\u001b[38;5;124;43m'\u001b[39;49m\u001b[38;5;124;43mhtml.parser\u001b[39;49m\u001b[38;5;124;43m'\u001b[39;49m\u001b[43m)\u001b[49m\n\u001b[0;32m     15\u001b[0m \u001b[38;5;66;03m#print(soup) #debuggin : html print check \u001b[39;00m\n\u001b[0;32m     16\u001b[0m press \u001b[38;5;241m=\u001b[39m soup\u001b[38;5;241m.\u001b[39mselect_one(\u001b[38;5;124m'\u001b[39m\u001b[38;5;124m.infoDetailL > ul > li:nth-of-type(2) > div\u001b[39m\u001b[38;5;124m'\u001b[39m)\u001b[38;5;241m.\u001b[39mtext\n",
      "File \u001b[1;32mc:\\Users\\kku403\\AppData\\Local\\Programs\\Python\\Python310\\lib\\site-packages\\bs4\\__init__.py:335\u001b[0m, in \u001b[0;36mBeautifulSoup.__init__\u001b[1;34m(self, markup, features, builder, parse_only, from_encoding, exclude_encodings, element_classes, **kwargs)\u001b[0m\n\u001b[0;32m    333\u001b[0m \u001b[38;5;28mself\u001b[39m\u001b[38;5;241m.\u001b[39mbuilder\u001b[38;5;241m.\u001b[39minitialize_soup(\u001b[38;5;28mself\u001b[39m)\n\u001b[0;32m    334\u001b[0m \u001b[38;5;28;01mtry\u001b[39;00m:\n\u001b[1;32m--> 335\u001b[0m     \u001b[38;5;28;43mself\u001b[39;49m\u001b[38;5;241;43m.\u001b[39;49m\u001b[43m_feed\u001b[49m\u001b[43m(\u001b[49m\u001b[43m)\u001b[49m\n\u001b[0;32m    336\u001b[0m     success \u001b[38;5;241m=\u001b[39m \u001b[38;5;28;01mTrue\u001b[39;00m\n\u001b[0;32m    337\u001b[0m     \u001b[38;5;28;01mbreak\u001b[39;00m\n",
      "File \u001b[1;32mc:\\Users\\kku403\\AppData\\Local\\Programs\\Python\\Python310\\lib\\site-packages\\bs4\\__init__.py:478\u001b[0m, in \u001b[0;36mBeautifulSoup._feed\u001b[1;34m(self)\u001b[0m\n\u001b[0;32m    475\u001b[0m \u001b[38;5;66;03m# Convert the document to Unicode.\u001b[39;00m\n\u001b[0;32m    476\u001b[0m \u001b[38;5;28mself\u001b[39m\u001b[38;5;241m.\u001b[39mbuilder\u001b[38;5;241m.\u001b[39mreset()\n\u001b[1;32m--> 478\u001b[0m \u001b[38;5;28;43mself\u001b[39;49m\u001b[38;5;241;43m.\u001b[39;49m\u001b[43mbuilder\u001b[49m\u001b[38;5;241;43m.\u001b[39;49m\u001b[43mfeed\u001b[49m\u001b[43m(\u001b[49m\u001b[38;5;28;43mself\u001b[39;49m\u001b[38;5;241;43m.\u001b[39;49m\u001b[43mmarkup\u001b[49m\u001b[43m)\u001b[49m\n\u001b[0;32m    479\u001b[0m \u001b[38;5;66;03m# Close out any unfinished strings and close all the open tags.\u001b[39;00m\n\u001b[0;32m    480\u001b[0m \u001b[38;5;28mself\u001b[39m\u001b[38;5;241m.\u001b[39mendData()\n",
      "File \u001b[1;32mc:\\Users\\kku403\\AppData\\Local\\Programs\\Python\\Python310\\lib\\site-packages\\bs4\\builder\\_htmlparser.py:380\u001b[0m, in \u001b[0;36mHTMLParserTreeBuilder.feed\u001b[1;34m(self, markup)\u001b[0m\n\u001b[0;32m    378\u001b[0m parser\u001b[38;5;241m.\u001b[39msoup \u001b[38;5;241m=\u001b[39m \u001b[38;5;28mself\u001b[39m\u001b[38;5;241m.\u001b[39msoup\n\u001b[0;32m    379\u001b[0m \u001b[38;5;28;01mtry\u001b[39;00m:\n\u001b[1;32m--> 380\u001b[0m     \u001b[43mparser\u001b[49m\u001b[38;5;241;43m.\u001b[39;49m\u001b[43mfeed\u001b[49m\u001b[43m(\u001b[49m\u001b[43mmarkup\u001b[49m\u001b[43m)\u001b[49m\n\u001b[0;32m    381\u001b[0m     parser\u001b[38;5;241m.\u001b[39mclose()\n\u001b[0;32m    382\u001b[0m \u001b[38;5;28;01mexcept\u001b[39;00m \u001b[38;5;167;01mAssertionError\u001b[39;00m \u001b[38;5;28;01mas\u001b[39;00m e:\n\u001b[0;32m    383\u001b[0m     \u001b[38;5;66;03m# html.parser raises AssertionError in rare cases to\u001b[39;00m\n\u001b[0;32m    384\u001b[0m     \u001b[38;5;66;03m# indicate a fatal problem with the markup, especially\u001b[39;00m\n\u001b[0;32m    385\u001b[0m     \u001b[38;5;66;03m# when there's an error in the doctype declaration.\u001b[39;00m\n",
      "File \u001b[1;32mc:\\Users\\kku403\\AppData\\Local\\Programs\\Python\\Python310\\lib\\html\\parser.py:110\u001b[0m, in \u001b[0;36mHTMLParser.feed\u001b[1;34m(self, data)\u001b[0m\n\u001b[0;32m    104\u001b[0m \u001b[38;5;250m\u001b[39m\u001b[38;5;124mr\u001b[39m\u001b[38;5;124;03m\"\"\"Feed data to the parser.\u001b[39;00m\n\u001b[0;32m    105\u001b[0m \n\u001b[0;32m    106\u001b[0m \u001b[38;5;124;03mCall this as often as you want, with as little or as much text\u001b[39;00m\n\u001b[0;32m    107\u001b[0m \u001b[38;5;124;03mas you want (may include '\\n').\u001b[39;00m\n\u001b[0;32m    108\u001b[0m \u001b[38;5;124;03m\"\"\"\u001b[39;00m\n\u001b[0;32m    109\u001b[0m \u001b[38;5;28mself\u001b[39m\u001b[38;5;241m.\u001b[39mrawdata \u001b[38;5;241m=\u001b[39m \u001b[38;5;28mself\u001b[39m\u001b[38;5;241m.\u001b[39mrawdata \u001b[38;5;241m+\u001b[39m data\n\u001b[1;32m--> 110\u001b[0m \u001b[38;5;28;43mself\u001b[39;49m\u001b[38;5;241;43m.\u001b[39;49m\u001b[43mgoahead\u001b[49m\u001b[43m(\u001b[49m\u001b[38;5;241;43m0\u001b[39;49m\u001b[43m)\u001b[49m\n",
      "File \u001b[1;32mc:\\Users\\kku403\\AppData\\Local\\Programs\\Python\\Python310\\lib\\html\\parser.py:170\u001b[0m, in \u001b[0;36mHTMLParser.goahead\u001b[1;34m(self, end)\u001b[0m\n\u001b[0;32m    168\u001b[0m \u001b[38;5;28;01mif\u001b[39;00m startswith(\u001b[38;5;124m'\u001b[39m\u001b[38;5;124m<\u001b[39m\u001b[38;5;124m'\u001b[39m, i):\n\u001b[0;32m    169\u001b[0m     \u001b[38;5;28;01mif\u001b[39;00m starttagopen\u001b[38;5;241m.\u001b[39mmatch(rawdata, i): \u001b[38;5;66;03m# < + letter\u001b[39;00m\n\u001b[1;32m--> 170\u001b[0m         k \u001b[38;5;241m=\u001b[39m \u001b[38;5;28;43mself\u001b[39;49m\u001b[38;5;241;43m.\u001b[39;49m\u001b[43mparse_starttag\u001b[49m\u001b[43m(\u001b[49m\u001b[43mi\u001b[49m\u001b[43m)\u001b[49m\n\u001b[0;32m    171\u001b[0m     \u001b[38;5;28;01melif\u001b[39;00m startswith(\u001b[38;5;124m\"\u001b[39m\u001b[38;5;124m</\u001b[39m\u001b[38;5;124m\"\u001b[39m, i):\n\u001b[0;32m    172\u001b[0m         k \u001b[38;5;241m=\u001b[39m \u001b[38;5;28mself\u001b[39m\u001b[38;5;241m.\u001b[39mparse_endtag(i)\n",
      "File \u001b[1;32mc:\\Users\\kku403\\AppData\\Local\\Programs\\Python\\Python310\\lib\\html\\parser.py:319\u001b[0m, in \u001b[0;36mHTMLParser.parse_starttag\u001b[1;34m(self, i)\u001b[0m\n\u001b[0;32m    317\u001b[0m     \u001b[38;5;28;01mbreak\u001b[39;00m\n\u001b[0;32m    318\u001b[0m attrname, rest, attrvalue \u001b[38;5;241m=\u001b[39m m\u001b[38;5;241m.\u001b[39mgroup(\u001b[38;5;241m1\u001b[39m, \u001b[38;5;241m2\u001b[39m, \u001b[38;5;241m3\u001b[39m)\n\u001b[1;32m--> 319\u001b[0m \u001b[38;5;28;01mif\u001b[39;00m \u001b[38;5;129;01mnot\u001b[39;00m rest:\n\u001b[0;32m    320\u001b[0m     attrvalue \u001b[38;5;241m=\u001b[39m \u001b[38;5;28;01mNone\u001b[39;00m\n\u001b[0;32m    321\u001b[0m \u001b[38;5;28;01melif\u001b[39;00m attrvalue[:\u001b[38;5;241m1\u001b[39m] \u001b[38;5;241m==\u001b[39m \u001b[38;5;124m'\u001b[39m\u001b[38;5;130;01m\\'\u001b[39;00m\u001b[38;5;124m'\u001b[39m \u001b[38;5;241m==\u001b[39m attrvalue[\u001b[38;5;241m-\u001b[39m\u001b[38;5;241m1\u001b[39m:] \u001b[38;5;129;01mor\u001b[39;00m \\\n\u001b[0;32m    322\u001b[0m      attrvalue[:\u001b[38;5;241m1\u001b[39m] \u001b[38;5;241m==\u001b[39m \u001b[38;5;124m'\u001b[39m\u001b[38;5;124m\"\u001b[39m\u001b[38;5;124m'\u001b[39m \u001b[38;5;241m==\u001b[39m attrvalue[\u001b[38;5;241m-\u001b[39m\u001b[38;5;241m1\u001b[39m:]:\n",
      "\u001b[1;31mKeyboardInterrupt\u001b[0m: "
     ]
    }
   ],
   "source": [
    "header = {\n",
    "    'User-Agent' : 'Mozilla/5.0 (Windows NT 10.0; Win64; x64) AppleWebKit/537.36 (KHTML, like Gecko) Chrome/135.0.0.0 Safari/537.36 Edg/135.0.0.0',\n",
    "    'Referer' : 'https://www.riss.kr/search/Search.do?isDetailSearch=N&searchGubun=true&viewYn=OP&queryText&strQuery=%ED%8C%A8%EC%85%98+%EC%9D%B8%EA%B3%B5%EC%A7%80%EB%8A%A5&exQuery&exQueryText&order=%2FDESC&onHanja=false&strSort=RANK&p_year1&p_year2&iStartCount=0&orderBy&mat_type&mat_subtype&fulltext_kind&t_gubun&learning_type&ccl_code&inside_outside&fric_yn&db_type&image_yn&gubun&kdc&ttsUseYn&l_sub_code&fsearchMethod&sflag=1&isFDetailSearch=N&pageNumber=1&resultKeyword=%ED%8C%A8%EC%85%98+%EC%9D%B8%EA%B3%B5%EC%A7%80%EB%8A%A5&fsearchSort&fsearchOrder&limiterList&limiterListText&facetList&facetListText&fsearchDB&icate=re_a_kor&colName=re_a_kor&pageScale=100&isTab=Y&regnm&dorg_storage&language&language_code&clickKeyword&relationKeyword&query=%ED%8C%A8%EC%85%98+%EC%9D%B8%EA%B3%B5%EC%A7%80%EB%8A%A5&fbclid=IwY2xjawJdtTNleHRuA2FlbQIxMAABHo5Jol8_M2AEmk_g_X6o-7hEESDKtDdX6i_8oH25dihqlqhf3SnezdsTYNo3_aem_izLNXBU2JVzexLy08vsfRw' \n",
    "}\n",
    "\n",
    "for article in articles:\n",
    "#for article in articles[:1]: # 1건 만 출력\n",
    "    title = article.select_one(\".title > a\").text\n",
    "    link = 'https://www.riss.kr' + article.select_one(\".title > a\").attrs['href']\n",
    "\n",
    "    #상세 페이지 요청\n",
    "    response = requests.get(link, headers=header)\n",
    "    html = response.text\n",
    "    soup = BeautifulSoup(html, 'html.parser')\n",
    "    #print(soup) #debuggin : html print check \n",
    "    press = soup.select_one('.infoDetailL > ul > li:nth-of-type(2) > div').text\n",
    "    print(title, link, press)\n"
   ]
  }
 ],
 "metadata": {
  "kernelspec": {
   "display_name": "Python 3",
   "language": "python",
   "name": "python3"
  },
  "language_info": {
   "codemirror_mode": {
    "name": "ipython",
    "version": 3
   },
   "file_extension": ".py",
   "mimetype": "text/x-python",
   "name": "python",
   "nbconvert_exporter": "python",
   "pygments_lexer": "ipython3",
   "version": "3.10.0rc2"
  }
 },
 "nbformat": 4,
 "nbformat_minor": 2
}
