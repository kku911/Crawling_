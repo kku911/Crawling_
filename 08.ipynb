{
 "cells": [
  {
   "cell_type": "code",
   "execution_count": null,
   "metadata": {},
   "outputs": [],
   "source": [
    "import requests\n",
    "from bs4 import BeautifulSoup\n",
    "import pandas as pd\n"
   ]
  },
  {
   "cell_type": "code",
   "execution_count": 36,
   "metadata": {},
   "outputs": [
    {
     "data": {
      "text/plain": [
       "'삼성전자 주식 배당금'"
      ]
     },
     "execution_count": 36,
     "metadata": {},
     "output_type": "execute_result"
    }
   ],
   "source": [
    "response = requests.get(\"https://kin.naver.com/search/list.naver?query=%EC%82%BC%EC%84%B1%EC%A0%84%EC%9E%90\")\n",
    "html = response.text\n",
    "soup = BeautifulSoup(html, \"html.parser\")\n",
    "\n",
    "soup.select_one(\"._nclicks\\\\:kin\\\\.txt\").text\n"
   ]
  },
  {
   "cell_type": "code",
   "execution_count": 42,
   "metadata": {},
   "outputs": [
    {
     "data": {
      "text/plain": [
       "'https://kin.naver.com/qna/detail.naver?d1id=4&dirId=40102&docId=483021954&qb=7IK87ISx7KCE7J6Q&enc=utf8'"
      ]
     },
     "execution_count": 42,
     "metadata": {},
     "output_type": "execute_result"
    }
   ],
   "source": [
    "\n",
    "soup.select_one(\"._nclicks\\\\:kin\\\\.txt\").attrs['href']"
   ]
  },
  {
   "cell_type": "code",
   "execution_count": 39,
   "metadata": {},
   "outputs": [
    {
     "data": {
      "text/plain": [
       "'2025-03-12'"
      ]
     },
     "execution_count": 39,
     "metadata": {},
     "output_type": "execute_result"
    }
   ],
   "source": [
    "\n",
    "soup.select_one(\".txt_inline\").text.strip()\n",
    "\n",
    "soup.select_one(\".txt_inline\").text.strip().split(\".\")[0] \\\n",
    "    + \"-\" + soup.select_one(\".txt_inline\").text.strip().split(\".\")[1] \\\n",
    "    + \"-\" + soup.select_one(\".txt_inline\").text.strip().split(\".\")[2]"
   ]
  },
  {
   "cell_type": "code",
   "execution_count": 38,
   "metadata": {},
   "outputs": [
    {
     "data": {
      "text/plain": [
       "'주식, 증권'"
      ]
     },
     "execution_count": 38,
     "metadata": {},
     "output_type": "execute_result"
    }
   ],
   "source": [
    "soup.select_one(\".txt_g1._nclicks\\:kin\\.cat2\").text.strip()"
   ]
  },
  {
   "cell_type": "code",
   "execution_count": 40,
   "metadata": {},
   "outputs": [
    {
     "data": {
      "text/plain": [
       "'주식, 증권'"
      ]
     },
     "execution_count": 40,
     "metadata": {},
     "output_type": "execute_result"
    }
   ],
   "source": [
    "soup.select_one(\".txt_block > a:nth-of-type(2)\").text"
   ]
  },
  {
   "cell_type": "code",
   "execution_count": null,
   "metadata": {},
   "outputs": [
    {
     "data": {
      "text/plain": [
       "'7'"
      ]
     },
     "execution_count": 41,
     "metadata": {},
     "output_type": "execute_result"
    }
   ],
   "source": [
    "soup.select_one(\".txt_block > span:nth-of-type(2)\").text.split(\"답변수\")[1].strip()\n"
   ]
  },
  {
   "cell_type": "code",
   "execution_count": 44,
   "metadata": {},
   "outputs": [
    {
     "name": "stdout",
     "output_type": "stream",
     "text": [
      "삼성전자 주식 배당금 https://kin.naver.com/qna/detail.naver?d1id=4&dirId=40102&docId=483021954&qb=7IK87ISx7KCE7J6Q&enc=utf8 2025.03.12. 주식, 증권 7\n",
      "삼성전자 5급 채용 https://kin.naver.com/qna/detail.naver?d1id=4&dirId=40609&docId=477072423&qb=7IK87ISx7KCE7J6Q&enc=utf8 2024.11.13. 생산, 기술 2\n",
      "삼성전자 주가 전망 어디까지 갈것인가? https://kin.naver.com/qna/detail.naver?d1id=4&dirId=40102&docId=480414718&qb=7IK87ISx7KCE7J6Q&enc=utf8 2025.01.15. 주식, 증권 28\n",
      "삼성전자 86인치TV KQ85QD70AFXKR의...  https://kin.naver.com/qna/detail.naver?d1id=5&dirId=501&docId=483010637&qb=7IK87ISx7KCE7J6Q&enc=utf8 2025.03.18. 가전제품 2\n",
      "삼성전자의 배당 수익률은 얼마인가요? https://kin.naver.com/qna/detail.naver?d1id=4&dirId=40102&docId=483294600&qb=7IK87ISx7KCE7J6Q&enc=utf8 2025.03.19. 주식, 증권 3\n",
      "삼성 전자 우 배당일 언제인가요? https://kin.naver.com/qna/detail.naver?d1id=4&dirId=40102&docId=481835121&qb=7IK87ISx7KCE7J6Q&enc=utf8 2025.02.20. 주식, 증권 3\n",
      "삼성전자 860 EVO 메인보드 호환 https://kin.naver.com/qna/detail.naver?d1id=5&dirId=5020304&docId=481306763&qb=7IK87ISx7KCE7J6Q&enc=utf8 2025.02.03. 메인보드 2\n",
      "삼성전자 사운드바 엘지tv와...  https://kin.naver.com/qna/detail.naver?d1id=5&dirId=50103&docId=477588576&qb=7IK87ISx7KCE7J6Q&enc=utf8 2024.11.07. 영상, 음향 가전 5\n",
      "삼성전자주가 예측될까요? https://kin.naver.com/qna/detail.naver?d1id=1&dirId=10102&docId=468830101&qb=7IK87ISx7KCE7J6Q&enc=utf8 2025.03.15. 노트북 7\n",
      "삼성전자 렌탈 서비스의 가격대는 어떻게...  https://kin.naver.com/qna/detail.naver?d1id=5&dirId=501&docId=480491476&qb=7IK87ISx7KCE7J6Q&enc=utf8 2025.01.16. 가전제품 2\n"
     ]
    }
   ],
   "source": [
    "response = requests.get(\"https://kin.naver.com/search/list.naver?query=%EC%82%BC%EC%84%B1%EC%A0%84%EC%9E%90\")\n",
    "html = response.text\n",
    "soup = BeautifulSoup(html, \"html.parser\")\n",
    "\n",
    "posts = soup.select(\".basic1 > li > dl\")\n",
    "for post in posts:\n",
    "    title = post.select_one(\"._nclicks\\\\:kin\\\\.txt\").text\n",
    "    link = post.select_one(\"._nclicks\\\\:kin\\\\.txt\").attrs['href']\n",
    "    date = post.select_one(\".txt_inline\").text.strip()\n",
    "    category = post.select_one(\".txt_g1._nclicks\\:kin\\.cat2\").text.strip()\n",
    "    review = post.select_one(\".txt_block > span:nth-of-type(2)\").text.split(\"답변수\")[1].strip()\n",
    "    #print(title, \"\\n\" + link, \"\\n\" + content, \"\\n\" + press, \"\\n\" + date, \"\\n\\n\")\n",
    "    print(title, link, date, category, review)"
   ]
  }
 ],
 "metadata": {
  "kernelspec": {
   "display_name": "Python 3",
   "language": "python",
   "name": "python3"
  },
  "language_info": {
   "codemirror_mode": {
    "name": "ipython",
    "version": 3
   },
   "file_extension": ".py",
   "mimetype": "text/x-python",
   "name": "python",
   "nbconvert_exporter": "python",
   "pygments_lexer": "ipython3",
   "version": "3.10.0rc2"
  }
 },
 "nbformat": 4,
 "nbformat_minor": 2
}
