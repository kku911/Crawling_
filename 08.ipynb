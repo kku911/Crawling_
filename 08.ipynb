{
 "cells": [
  {
   "cell_type": "code",
   "execution_count": null,
   "metadata": {},
   "outputs": [],
   "source": [
    "import requests\n",
    "from bs4 import BeautifulSoup\n",
    "import pandas as pd\n"
   ]
  },
  {
   "cell_type": "code",
   "execution_count": null,
   "metadata": {},
   "outputs": [],
   "source": [
    "response = requests.get(\"https://kin.naver.com/search/list.naver?query=%EC%82%BC%EC%84%B1%EC%A0%84%EC%9E%90\")\n",
    "html = response.text\n",
    "soup = BeautifulSoup(html, \"html.parser\")\n",
    "\n",
    "soup.select_one(\"._nclicks\\\\:kin\\\\.txt\").text\n"
   ]
  },
  {
   "cell_type": "code",
   "execution_count": null,
   "metadata": {},
   "outputs": [],
   "source": [
    "\n",
    "soup.select_one(\"._nclicks\\\\:kin\\\\.txt\").attrs['href']"
   ]
  },
  {
   "cell_type": "code",
   "execution_count": null,
   "metadata": {},
   "outputs": [],
   "source": [
    "\n",
    "soup.select_one(\".txt_inline\").text.strip()\n",
    "\n",
    "soup.select_one(\".txt_inline\").text.strip().split(\".\")[0] \\\n",
    "    + \"-\" + soup.select_one(\".txt_inline\").text.strip().split(\".\")[1] \\\n",
    "    + \"-\" + soup.select_one(\".txt_inline\").text.strip().split(\".\")[2]"
   ]
  },
  {
   "cell_type": "code",
   "execution_count": null,
   "metadata": {},
   "outputs": [],
   "source": [
    "soup.select_one(\".txt_g1._nclicks\\:kin\\.cat2\").text.strip()"
   ]
  },
  {
   "cell_type": "code",
   "execution_count": null,
   "metadata": {},
   "outputs": [],
   "source": [
    "soup.select_one(\".txt_block > a:nth-of-type(2)\").text"
   ]
  },
  {
   "cell_type": "code",
   "execution_count": null,
   "metadata": {},
   "outputs": [],
   "source": [
    "soup.select_one(\".txt_block > span:nth-of-type(2)\").text.split(\"답변수\")[1].strip()\n"
   ]
  },
  {
   "cell_type": "code",
   "execution_count": null,
   "metadata": {},
   "outputs": [],
   "source": [
    "articles = soup.select(\".basic1 > li > dl\")\n",
    "for article in articles:\n",
    "    title = article.select_one(\".articleSubject > a\").text\n",
    "    link = 'https://finance.naver.com' + article.select_one(\".articleSubject > a\").attrs['href']\n",
    "    content = article.select_one(\".articleSummary\").contents[0].strip()\n",
    "    press = article.select_one(\".press\").text.strip()\n",
    "    date = article.select_one(\".wdate\").text.strip()\n",
    "    print(title, \"\\n\" + link, \"\\n\" + content, \"\\n\" + press, \"\\n\" + date, \"\\n\\n\")"
   ]
  }
 ],
 "metadata": {
  "kernelspec": {
   "display_name": "Python 3",
   "language": "python",
   "name": "python3"
  },
  "language_info": {
   "codemirror_mode": {
    "name": "ipython",
    "version": 3
   },
   "file_extension": ".py",
   "mimetype": "text/x-python",
   "name": "python",
   "nbconvert_exporter": "python",
   "pygments_lexer": "ipython3",
   "version": "3.10.0rc2"
  }
 },
 "nbformat": 4,
 "nbformat_minor": 2
}
