{
 "cells": [
  {
   "cell_type": "code",
   "execution_count": null,
   "metadata": {},
   "outputs": [],
   "source": [
    "import requests\n",
    "from bs4 import BeautifulSoup\n",
    "import pandas as pd\n"
   ]
  },
  {
   "cell_type": "code",
   "execution_count": null,
   "metadata": {},
   "outputs": [],
   "source": [
    "response = requests.get(\"https://kin.naver.com/search/list.naver?query=%EC%82%BC%EC%84%B1%EC%A0%84%EC%9E%90\")\n",
    "html = response.text\n",
    "soup = BeautifulSoup(html, \"html.parser\")\n",
    "\n",
    "soup.select_one(\"._nclicks\\\\:kin\\\\.txt\").text\n"
   ]
  },
  {
   "cell_type": "code",
   "execution_count": null,
   "metadata": {},
   "outputs": [],
   "source": [
    "\n",
    "soup.select_one(\"._nclicks\\\\:kin\\\\.txt\").attrs['href']"
   ]
  },
  {
   "cell_type": "code",
   "execution_count": null,
   "metadata": {},
   "outputs": [],
   "source": [
    "\n",
    "soup.select_one(\".txt_inline\").text.strip()\n",
    "\n",
    "soup.select_one(\".txt_inline\").text.strip().split(\".\")[0] \\\n",
    "    + \"-\" + soup.select_one(\".txt_inline\").text.strip().split(\".\")[1] \\\n",
    "    + \"-\" + soup.select_one(\".txt_inline\").text.strip().split(\".\")[2]"
   ]
  },
  {
   "cell_type": "code",
   "execution_count": null,
   "metadata": {},
   "outputs": [],
   "source": [
    "soup.select_one(\".txt_g1._nclicks\\:kin\\.cat2\").text.strip()"
   ]
  },
  {
   "cell_type": "code",
   "execution_count": null,
   "metadata": {},
   "outputs": [],
   "source": [
    "soup.select_one(\".txt_block > a:nth-of-type(2)\").text"
   ]
  },
  {
   "cell_type": "code",
   "execution_count": null,
   "metadata": {},
   "outputs": [],
   "source": [
    "soup.select_one(\".txt_block > span:nth-of-type(2)\").text.split(\"답변수\")[1].strip()\n"
   ]
  },
  {
   "cell_type": "code",
   "execution_count": null,
   "metadata": {},
   "outputs": [],
   "source": [
    "response = requests.get(\"https://kin.naver.com/search/list.naver?query=%EC%82%BC%EC%84%B1%EC%A0%84%EC%9E%90\")\n",
    "html = response.text\n",
    "soup = BeautifulSoup(html, \"html.parser\")\n",
    "\n",
    "posts = soup.select(\".basic1 > li > dl\")\n",
    "for post in posts:\n",
    "    title = post.select_one(\"._nclicks\\\\:kin\\\\.txt\").text\n",
    "    link = post.select_one(\"._nclicks\\\\:kin\\\\.txt\").attrs['href']\n",
    "    date = post.select_one(\".txt_inline\").text.strip()\n",
    "    category = post.select_one(\".txt_g1._nclicks\\:kin\\.cat2\").text.strip()\n",
    "    review = post.select_one(\".txt_block > span:nth-of-type(2)\").text.split(\"답변수\")[1].strip()\n",
    "    #print(title, \"\\n\" + link, \"\\n\" + content, \"\\n\" + press, \"\\n\" + date, \"\\n\\n\")\n",
    "    print(title, link, date, category, review)"
   ]
  },
  {
   "cell_type": "code",
   "execution_count": null,
   "metadata": {},
   "outputs": [],
   "source": [
    "page = input(\"몇 페이지 까지 크롤링 하시겠습니까 ?\")\n",
    "page"
   ]
  },
  {
   "cell_type": "code",
   "execution_count": 5,
   "metadata": {},
   "outputs": [
    {
     "ename": "ValueError",
     "evalue": "invalid literal for int() with base 10: ''",
     "output_type": "error",
     "traceback": [
      "\u001b[0;31m---------------------------------------------------------------------------\u001b[0m",
      "\u001b[0;31mValueError\u001b[0m                                Traceback (most recent call last)",
      "Cell \u001b[0;32mIn[5], line 5\u001b[0m\n\u001b[1;32m      2\u001b[0m \u001b[38;5;28;01mfrom\u001b[39;00m\u001b[38;5;250m \u001b[39m\u001b[38;5;21;01mbs4\u001b[39;00m\u001b[38;5;250m \u001b[39m\u001b[38;5;28;01mimport\u001b[39;00m BeautifulSoup\n\u001b[1;32m      3\u001b[0m \u001b[38;5;28;01mimport\u001b[39;00m\u001b[38;5;250m \u001b[39m\u001b[38;5;21;01mpandas\u001b[39;00m\u001b[38;5;250m \u001b[39m\u001b[38;5;28;01mas\u001b[39;00m\u001b[38;5;250m \u001b[39m\u001b[38;5;21;01mpd\u001b[39;00m\n\u001b[0;32m----> 5\u001b[0m page \u001b[38;5;241m=\u001b[39m \u001b[38;5;28;43mint\u001b[39;49m\u001b[43m(\u001b[49m\u001b[38;5;28;43minput\u001b[39;49m\u001b[43m(\u001b[49m\u001b[38;5;124;43m\"\u001b[39;49m\u001b[38;5;124;43m몇 페이지 까지 크롤링 하시겠습니까 ?\u001b[39;49m\u001b[38;5;124;43m\"\u001b[39;49m\u001b[43m)\u001b[49m\u001b[43m)\u001b[49m\n\u001b[1;32m      7\u001b[0m data \u001b[38;5;241m=\u001b[39m []\n\u001b[1;32m      8\u001b[0m \u001b[38;5;28;01mfor\u001b[39;00m i \u001b[38;5;129;01min\u001b[39;00m \u001b[38;5;28mrange\u001b[39m(\u001b[38;5;241m1\u001b[39m, page \u001b[38;5;241m+\u001b[39m \u001b[38;5;241m1\u001b[39m):\n",
      "\u001b[0;31mValueError\u001b[0m: invalid literal for int() with base 10: ''"
     ]
    }
   ],
   "source": [
    "import requests\n",
    "from bs4 import BeautifulSoup\n",
    "import pandas as pd\n",
    "\n",
    "page = int(input(\"몇 페이지 까지 크롤링 하시겠습니까 ?\"))\n",
    "\n",
    "data = []\n",
    "for i in range(1, page + 1):\n",
    "    response = requests.get(f\"https://kin.naver.com/search/list.naver?query=%EC%82%BC%EC%84%B1%EC%A0%84%EC%9E%90&page={i}\")\n",
    "    html = response.text\n",
    "    soup = BeautifulSoup(html, \"html.parser\")\n",
    "\n",
    "    posts = soup.select(\".basic1 > li > dl\")\n",
    "    for post in posts:\n",
    "        title = post.select_one(\"._nclicks\\\\:kin\\\\.txt\").text\n",
    "        link = post.select_one(\"._nclicks\\\\:kin\\\\.txt\").attrs['href']\n",
    "        date = post.select_one(\".txt_inline\").text.strip()\n",
    "        category = post.select_one(\".txt_g1._nclicks\\:kin\\.cat2\").text.strip()\n",
    "        review = post.select_one(\".txt_block > span:nth-of-type(2)\").text.split(\"답변수\")[1].strip()\n",
    "        #print(title, \"\\n\" + link, \"\\n\" + content, \"\\n\" + press, \"\\n\" + date, \"\\n\\n\")\n",
    "        print(title, link, date, category, review)\n",
    "\n",
    "        data.append([title, link, date, category, int(review)])\n",
    "\n",
    "\n",
    "df = pd.DataFrame(data, columns=[\"제목\", \"링크\", \"날짜\", \"카테고리\", \"답변수\"])\n",
    "df.to_excel(\"naver_08.xlsx\", sheet_name=\"Sheet1\")"
   ]
  }
 ],
 "metadata": {
  "kernelspec": {
   "display_name": "Python 3",
   "language": "python",
   "name": "python3"
  },
  "language_info": {
   "codemirror_mode": {
    "name": "ipython",
    "version": 3
   },
   "file_extension": ".py",
   "mimetype": "text/x-python",
   "name": "python",
   "nbconvert_exporter": "python",
   "pygments_lexer": "ipython3",
   "version": "3.10.0rc2"
  }
 },
 "nbformat": 4,
 "nbformat_minor": 2
}
