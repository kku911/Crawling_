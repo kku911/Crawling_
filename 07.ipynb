{
 "cells": [
  {
   "cell_type": "code",
   "execution_count": 28,
   "metadata": {},
   "outputs": [],
   "source": [
    "import requests\n",
    "from bs4 import BeautifulSoup\n",
    "import pandas as pd\n"
   ]
  },
  {
   "cell_type": "code",
   "execution_count": null,
   "metadata": {},
   "outputs": [],
   "source": [
    "articles = soup.select(\".block1\")\n",
    "for article in articles:\n",
    "    title = article.select_one(\".articleSubject > a\").text\n",
    "    link = 'https://finance.naver.com' + article.select_one(\".articleSubject > a\").attrs['href']\n",
    "    content = article.select_one(\".articleSummary\").contents[0].strip()\n",
    "    press = article.select_one(\".press\").text.strip()\n",
    "    date = article.select_one(\".wdate\").text.strip()\n",
    "    print(title, \"\\n\" + link, \"\\n\" + content, \"\\n\" + press, \"\\n\" + date, \"\\n\\n\")"
   ]
  },
  {
   "cell_type": "code",
   "execution_count": null,
   "metadata": {},
   "outputs": [],
   "source": [
    "for i in (1,300):\n",
    "    response = requests.get(f\"https://finance.naver.com/news/mainnews.naver?date=2024-05-08&page={i}\")\n",
    "    html = response.text\n",
    "    soup = BeautifulSoup(html, \"html.parser\")\n",
    "\n",
    "    articles = soup.select(\".block1\")\n",
    "    for article in articles:\n",
    "        title = article.select_one(\".articleSubject > a\").text\n",
    "        link = 'https://finance.naver.com' + article.select_one(\".articleSubject > a\").attrs['href']\n",
    "        content = article.select_one(\".articleSummary\").contents[0].strip()\n",
    "        press = article.select_one(\".press\").text.strip()\n",
    "        date = article.select_one(\".wdate\").text.strip()\n",
    "        print(title, \"\\n\" + link, \"\\n\" + content, \"\\n\" + press, \"\\n\" + date, \"\\n\\n\")\n",
    "    \n",
    "    if soup.select_one(\".pgRR\") == None:\n",
    "        break"
   ]
  },
  {
   "cell_type": "code",
   "execution_count": 42,
   "metadata": {},
   "outputs": [],
   "source": [
    "data = []\n",
    "for i in (1,300):\n",
    "    response = requests.get(f\"https://finance.naver.com/news/mainnews.naver?date=2024-05-08&page={i}\")\n",
    "    html = response.text\n",
    "    soup = BeautifulSoup(html, \"html.parser\")\n",
    "\n",
    "    articles = soup.select(\".block1\")\n",
    "    for article in articles:\n",
    "        title = article.select_one(\".articleSubject > a\").text\n",
    "        link = 'https://finance.naver.com' + article.select_one(\".articleSubject > a\").attrs['href']\n",
    "        content = article.select_one(\".articleSummary\").contents[0].strip()\n",
    "        press = article.select_one(\".press\").text.strip()\n",
    "        date = article.select_one(\".wdate\").text.strip()\n",
    "        #print(title, \"\\n\" + link, \"\\n\" + content, \"\\n\" + press, \"\\n\" + date, \"\\n\\n\")\n",
    "        data.append([title, link, content, press, date])\n",
    "        \n",
    "    \n",
    "    if soup.select_one(\".pgRR\") == None:\n",
    "        break"
   ]
  },
  {
   "cell_type": "code",
   "execution_count": null,
   "metadata": {},
   "outputs": [],
   "source": [
    "df = pd.DataFrame(data, columns=[\"제목\", \"링크\", \"내용\", \"언론사\", \"날짜\"])\n",
    "df"
   ]
  },
  {
   "cell_type": "code",
   "execution_count": 46,
   "metadata": {},
   "outputs": [],
   "source": [
    "df.to_excel(\"naver_news.xlsx\", sheet_name=\"Sheet1\")"
   ]
  }
 ],
 "metadata": {
  "kernelspec": {
   "display_name": "Python 3",
   "language": "python",
   "name": "python3"
  },
  "language_info": {
   "codemirror_mode": {
    "name": "ipython",
    "version": 3
   },
   "file_extension": ".py",
   "mimetype": "text/x-python",
   "name": "python",
   "nbconvert_exporter": "python",
   "pygments_lexer": "ipython3",
   "version": "3.10.0"
  }
 },
 "nbformat": 4,
 "nbformat_minor": 2
}
